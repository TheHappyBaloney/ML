{
 "cells": [
  {
   "cell_type": "markdown",
   "id": "3ad6eb13",
   "metadata": {
    "papermill": {
     "duration": 0.003728,
     "end_time": "2024-05-12T23:54:22.981818",
     "exception": false,
     "start_time": "2024-05-12T23:54:22.978090",
     "status": "completed"
    },
    "tags": []
   },
   "source": [
    "# Importing Packages"
   ]
  },
  {
   "cell_type": "code",
   "execution_count": 1,
   "id": "c464200f",
   "metadata": {
    "execution": {
     "iopub.execute_input": "2024-05-12T23:54:22.990408Z",
     "iopub.status.busy": "2024-05-12T23:54:22.989920Z",
     "iopub.status.idle": "2024-05-12T23:54:25.947530Z",
     "shell.execute_reply": "2024-05-12T23:54:25.944695Z"
    },
    "papermill": {
     "duration": 2.965502,
     "end_time": "2024-05-12T23:54:25.950790",
     "exception": false,
     "start_time": "2024-05-12T23:54:22.985288",
     "status": "completed"
    },
    "tags": []
   },
   "outputs": [
    {
     "name": "stdout",
     "output_type": "stream",
     "text": [
      "Import Successful!\n"
     ]
    }
   ],
   "source": [
    "import numpy as np\n",
    "import matplotlib.pyplot as plt\n",
    "import pandas as pd\n",
    "from sklearn.model_selection import train_test_split\n",
    "from sklearn.preprocessing import StandardScaler\n",
    "from sklearn.neighbors import KNeighborsClassifier\n",
    "from sklearn.metrics import confusion_matrix\n",
    "from matplotlib.colors import ListedColormap\n",
    "\n",
    "print(\"Import Successful!\")"
   ]
  },
  {
   "cell_type": "markdown",
   "id": "af33b032",
   "metadata": {
    "papermill": {
     "duration": 0.002902,
     "end_time": "2024-05-12T23:54:25.957125",
     "exception": false,
     "start_time": "2024-05-12T23:54:25.954223",
     "status": "completed"
    },
    "tags": []
   },
   "source": [
    "# Data Pre-Processing"
   ]
  },
  {
   "cell_type": "code",
   "execution_count": 2,
   "id": "56c94f6d",
   "metadata": {
    "execution": {
     "iopub.execute_input": "2024-05-12T23:54:25.966172Z",
     "iopub.status.busy": "2024-05-12T23:54:25.965104Z",
     "iopub.status.idle": "2024-05-12T23:54:25.996524Z",
     "shell.execute_reply": "2024-05-12T23:54:25.994920Z"
    },
    "papermill": {
     "duration": 0.040023,
     "end_time": "2024-05-12T23:54:26.000150",
     "exception": false,
     "start_time": "2024-05-12T23:54:25.960127",
     "status": "completed"
    },
    "tags": []
   },
   "outputs": [],
   "source": [
    "dataset = pd.read_csv(\"/kaggle/input/social-networks-dataset/Social_Network_Ads.csv\")\n",
    "x = dataset.iloc[:,[2,3]].values\n",
    "y = dataset.iloc[:,4].values"
   ]
  },
  {
   "cell_type": "code",
   "execution_count": 3,
   "id": "7337369a",
   "metadata": {
    "execution": {
     "iopub.execute_input": "2024-05-12T23:54:26.011410Z",
     "iopub.status.busy": "2024-05-12T23:54:26.010994Z",
     "iopub.status.idle": "2024-05-12T23:54:26.025574Z",
     "shell.execute_reply": "2024-05-12T23:54:26.024578Z"
    },
    "papermill": {
     "duration": 0.022608,
     "end_time": "2024-05-12T23:54:26.028506",
     "exception": false,
     "start_time": "2024-05-12T23:54:26.005898",
     "status": "completed"
    },
    "tags": []
   },
   "outputs": [],
   "source": [
    "# Train - Test Split\n",
    "x_train , x_test , y_train , y_test = train_test_split( x , y , test_size = 0.3 , random_state = 10 )\n",
    "\n",
    "# Feature Scaling\n",
    "st_x = StandardScaler()\n",
    "x_train = st_x.fit_transform(x_train)\n",
    "x_test = st_x.fit_transform(x_test)"
   ]
  }
 ],
 "metadata": {
  "kaggle": {
   "accelerator": "none",
   "dataSources": [
    {
     "datasetId": 4994523,
     "sourceId": 8395557,
     "sourceType": "datasetVersion"
    }
   ],
   "dockerImageVersionId": 30698,
   "isGpuEnabled": false,
   "isInternetEnabled": true,
   "language": "python",
   "sourceType": "notebook"
  },
  "kernelspec": {
   "display_name": "Python 3",
   "language": "python",
   "name": "python3"
  },
  "language_info": {
   "codemirror_mode": {
    "name": "ipython",
    "version": 3
   },
   "file_extension": ".py",
   "mimetype": "text/x-python",
   "name": "python",
   "nbconvert_exporter": "python",
   "pygments_lexer": "ipython3",
   "version": "3.10.13"
  },
  "papermill": {
   "default_parameters": {},
   "duration": 7.455696,
   "end_time": "2024-05-12T23:54:26.955802",
   "environment_variables": {},
   "exception": null,
   "input_path": "__notebook__.ipynb",
   "output_path": "__notebook__.ipynb",
   "parameters": {},
   "start_time": "2024-05-12T23:54:19.500106",
   "version": "2.5.0"
  }
 },
 "nbformat": 4,
 "nbformat_minor": 5
}
